{
 "cells": [
  {
   "cell_type": "markdown",
   "metadata": {},
   "source": [
    "作業1：\n",
    "\n",
    "請上 Kaggle, 在 Competitions 或 Dataset 中找一組競賽或資料並寫下：\n",
    "\n",
    "1. 你選的這組資料為何重要\n",
    "我選擇的Dataset是Predict Future Sales\n",
    "重要是因為成果或許可以解決企業核心問題\n",
    "\n",
    "2. 資料從何而來 (tips: 譬如提供者是誰、以什麼方式蒐集)\n",
    "提供者為一家俄國的軟體公司- 1C Company\n",
    "\n",
    "3. 蒐集而來的資料型態為何\n",
    "結構化的表格，有數值也有字串\n",
    "\n",
    "4. 這組資料想解決的問題如何評估\n",
    "想要預測未來每家店的銷量，但是店清單和產品每個月會有所不同\n",
    "解決問題必須考慮time series，是否有大小月之分，產品週期性，店的地域性和獨特性是否會影響銷量\n",
    "若是可以預測銷量的話，也許可以減少inventory的堆積\n"
   ]
  },
  {
   "cell_type": "markdown",
   "metadata": {},
   "source": [
    "作業2：\n",
    "\n",
    "想像你經營一個自由載客車隊，你希望能透過數據分析以提升業績，請你思考並描述你如何規劃整體的分析/解決方案：\n",
    "\n",
    "1. 核心問題為何 (tips：如何定義 「提升業績 & 你的假設」)\n",
    "哪些路段或是區域更常收到叫車服務，是否有哪些時段是特別高或低的\n",
    "\n",
    "2. 資料從何而來 (tips：哪些資料可能會對你想問的問題產生影響 & 資料如何蒐集)\n",
    "若是有app可以記錄上車地點及時間，則可以做為資料的依據\n",
    "app的使用上是否年輕族群居多，可能會遺失多數年長者的資料，導致最後結論只針對到年輕族群\n",
    "\n",
    "3. 蒐集而來的資料型態為何\n",
    "\n",
    "結構化的資訊\n",
    "例如上車時可以記錄當時的定位及時間\n",
    "\n",
    "4. 你要回答的問題，其如何評估 (tips：你的假設如何驗證)\n",
    "先設定假設，驗證兩個datasets的mean是否一樣，來判定不同地區的確有較高的叫車發生率\n"
   ]
  },
  {
   "cell_type": "markdown",
   "metadata": {},
   "source": [
    "## 練習時間\n",
    "#### 請寫一個函式用來計算 Mean Square Error\n",
    "$ MSE = \\frac{1}{n}\\sum_{i=1}^{n}{(Y_i - \\hat{Y}_i)^2} $\n",
    "\n",
    "### Hint: [如何取平方](https://googoodesign.gitbooks.io/-ezpython/unit-1.html)"
   ]
  },
  {
   "cell_type": "code",
   "execution_count": null,
   "metadata": {},
   "outputs": [],
   "source": [
    "def mean_square_error(y,yp):\n",
    "    mse = sum((y-yp)**2) / len(y)\n",
    "    return mse"
   ]
  }
 ],
 "metadata": {
  "anaconda-cloud": {},
  "kernelspec": {
   "display_name": "Python 3",
   "language": "python",
   "name": "python3"
  },
  "language_info": {
   "codemirror_mode": {
    "name": "ipython",
    "version": 3
   },
   "file_extension": ".py",
   "mimetype": "text/x-python",
   "name": "python",
   "nbconvert_exporter": "python",
   "pygments_lexer": "ipython3",
   "version": "3.6.5"
  }
 },
 "nbformat": 4,
 "nbformat_minor": 1
}
